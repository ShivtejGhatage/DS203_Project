{
 "cells": [
  {
   "cell_type": "code",
   "execution_count": 8,
   "metadata": {},
   "outputs": [
    {
     "name": "stdout",
     "output_type": "stream",
     "text": [
      "(20, 9289)\n",
      "Audio saved as ./SONGs/song_27.wav.\n"
     ]
    }
   ],
   "source": [
    "import pandas as pd\n",
    "import numpy as np\n",
    "import librosa\n",
    "import soundfile as sf\n",
    "\n",
    "song_no = \"27\"\n",
    "mfcc_df = pd.read_csv('./MFCC-files-v2/' + song_no + '-MFCC.csv', header=None)  \n",
    "mfccs = mfcc_df.values \n",
    "print(mfccs.shape)\n",
    "sr = 44100  # OG sample rate\n",
    "\n",
    "# Note: Padding is optional, depending on your MFCC shape\n",
    "# mfccs = np.pad(mfccs, ((0, 0), (1, 1)), mode='edge')  \n",
    "audio = librosa.feature.inverse.mfcc_to_audio(mfccs)\n",
    "\n",
    "wav_filename = './SONGs/song_'+ song_no +'.wav'\n",
    "sf.write(wav_filename, audio, sr)\n",
    "\n",
    "print(f\"Audio saved as {wav_filename}.\")\n"
   ]
  }
 ],
 "metadata": {
  "kernelspec": {
   "display_name": "Python 3",
   "language": "python",
   "name": "python3"
  },
  "language_info": {
   "codemirror_mode": {
    "name": "ipython",
    "version": 3
   },
   "file_extension": ".py",
   "mimetype": "text/x-python",
   "name": "python",
   "nbconvert_exporter": "python",
   "pygments_lexer": "ipython3",
   "version": "3.11.7"
  }
 },
 "nbformat": 4,
 "nbformat_minor": 2
}
