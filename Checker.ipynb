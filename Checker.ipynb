{
 "cells": [
  {
   "cell_type": "code",
   "execution_count": 3,
   "metadata": {},
   "outputs": [
    {
     "name": "stdout",
     "output_type": "stream",
     "text": [
      "   GMM Cluster            Song\n",
      "0            2  mfcc_output_61\n",
      "1            5  mfcc_output_76\n",
      "2            5  mfcc_output_88\n",
      "3            4  mfcc_output_63\n",
      "4            0  mfcc_output_77\n",
      "Number of matching rows: 51\n"
     ]
    }
   ],
   "source": [
    "import pandas as pd\n",
    "\n",
    "# Load the two CSV files\n",
    "df1 = pd.read_csv('Output_GMM_max.csv')\n",
    "df2 = pd.read_csv('Output_GMM_Mean.csv')\n",
    "\n",
    "\n",
    "# Merge on 'GMM Cluster' and 'Song' columns to find matching rows\n",
    "matching_rows = pd.merge(df1[['GMM Cluster', 'Song']], df2[['GMM Cluster', 'Song']], \n",
    "                        on=['GMM Cluster', 'Song'], how='inner')\n",
    "    \n",
    "print(matching_rows.head())\n",
    "    # Count the number of matching rows\n",
    "matching_count = matching_rows.shape[0]\n",
    "print(f\"Number of matching rows: {matching_count}\")\n"
   ]
  },
  {
   "cell_type": "code",
   "execution_count": 4,
   "metadata": {},
   "outputs": [
    {
     "name": "stdout",
     "output_type": "stream",
     "text": [
      "   GMM Cluster            Song\n",
      "0            5  mfcc_output_49\n",
      "1            2  mfcc_output_61\n",
      "2            4  mfcc_output_63\n",
      "3            0  mfcc_output_73\n",
      "4            1  mfcc_output_59\n",
      "Number of matching rows: 40\n"
     ]
    }
   ],
   "source": [
    "import pandas as pd\n",
    "\n",
    "# Load the two CSV files\n",
    "df1 = pd.read_csv('Output_GMM_max.csv')\n",
    "df2 = pd.read_csv('Output_GMM_Min.csv')\n",
    "\n",
    "\n",
    "# Merge on 'GMM Cluster' and 'Song' columns to find matching rows\n",
    "matching_rows = pd.merge(df1[['GMM Cluster', 'Song']], df2[['GMM Cluster', 'Song']], \n",
    "                        on=['GMM Cluster', 'Song'], how='inner')\n",
    "    \n",
    "print(matching_rows.head())\n",
    "    # Count the number of matching rows\n",
    "matching_count = matching_rows.shape[0]\n",
    "print(f\"Number of matching rows: {matching_count}\")"
   ]
  },
  {
   "cell_type": "code",
   "execution_count": 5,
   "metadata": {},
   "outputs": [
    {
     "name": "stdout",
     "output_type": "stream",
     "text": [
      "   GMM Cluster            Song\n",
      "0            2  mfcc_output_61\n",
      "1            2  mfcc_output_75\n",
      "2            5  mfcc_output_48\n",
      "3            4  mfcc_output_63\n",
      "4            0  mfcc_output_73\n",
      "Number of matching rows: 47\n"
     ]
    }
   ],
   "source": [
    "import pandas as pd\n",
    "\n",
    "# Load the two CSV files\n",
    "df1 = pd.read_csv('Output_GMM_min.csv')\n",
    "df2 = pd.read_csv('Output_GMM_Mean.csv')\n",
    "\n",
    "\n",
    "# Merge on 'GMM Cluster' and 'Song' columns to find matching rows\n",
    "matching_rows = pd.merge(df1[['GMM Cluster', 'Song']], df2[['GMM Cluster', 'Song']], \n",
    "                        on=['GMM Cluster', 'Song'], how='inner')\n",
    "    \n",
    "print(matching_rows.head())\n",
    "    # Count the number of matching rows\n",
    "matching_count = matching_rows.shape[0]\n",
    "print(f\"Number of matching rows: {matching_count}\")"
   ]
  },
  {
   "cell_type": "code",
   "execution_count": null,
   "metadata": {},
   "outputs": [
    {
     "name": "stdout",
     "output_type": "stream",
     "text": [
      "Number of rows with at least two tables matching on 'GMM Cluster' and 'Song': 88\n"
     ]
    }
   ],
   "source": [
    "import pandas as pd\n",
    "\n",
    "# Load the three CSV files\n",
    "df1 = pd.read_csv('Output_GMM_max.csv')\n",
    "df2 = pd.read_csv('Output_GMM_Min.csv')\n",
    "df3 = pd.read_csv('Output_GMM_Mean.csv')\n",
    "\n",
    "# Ensure all DataFrames have the 'GMM Cluster' and 'Song' columns\n",
    "required_columns = {'GMM Cluster', 'Song'}\n",
    "if required_columns.issubset(df1.columns) and required_columns.issubset(df2.columns) and required_columns.issubset(df3.columns):\n",
    "\n",
    "    # Merge pairwise tables to find common rows\n",
    "    df1_df2 = pd.merge(df1[['GMM Cluster', 'Song']], df2[['GMM Cluster', 'Song']], \n",
    "                       on=['GMM Cluster', 'Song'], how='inner')\n",
    "    df2_df3 = pd.merge(df2[['GMM Cluster', 'Song']], df3[['GMM Cluster', 'Song']], \n",
    "                       on=['GMM Cluster', 'Song'], how='inner')\n",
    "    df1_df3 = pd.merge(df1[['GMM Cluster', 'Song']], df3[['GMM Cluster', 'Song']], \n",
    "                       on=['GMM Cluster', 'Song'], how='inner')\n",
    "    \n",
    "    # Combine all matching rows across pairwise matches\n",
    "    combined_matches = pd.concat([df1_df2, df2_df3, df1_df3]).drop_duplicates()\n",
    "\n",
    "    # Count the number of unique matching rows across at least two tables\n",
    "    matching_count = combined_matches.shape[0]\n",
    "    print(f\"Number of rows with at least two tables matching on 'GMM Cluster' and 'Song': {matching_count}\")\n",
    "\n",
    "else:\n",
    "    print(\"All CSV files must have 'GMM Cluster' and 'Song' columns.\")\n"
   ]
  },
  {
   "cell_type": "code",
   "execution_count": 10,
   "metadata": {},
   "outputs": [
    {
     "name": "stdout",
     "output_type": "stream",
     "text": [
      "Rows where all three tables match on 'GMM Cluster' and 'Song':\n",
      "25\n"
     ]
    }
   ],
   "source": [
    "import pandas as pd\n",
    "\n",
    "# Load the three CSV files\n",
    "df1 = pd.read_csv('Output_GMM_max.csv')\n",
    "df2 = pd.read_csv('Output_GMM_Min.csv')\n",
    "df3 = pd.read_csv('Output_GMM_Mean.csv')\n",
    "\n",
    "# Ensure all DataFrames have the 'GMM Cluster' and 'Song' columns\n",
    "required_columns = {'GMM Cluster', 'Song'}\n",
    "if required_columns.issubset(df1.columns) and required_columns.issubset(df2.columns) and required_columns.issubset(df3.columns):\n",
    "\n",
    "    # Perform an inner join across the three DataFrames on 'GMM Cluster' and 'Song'\n",
    "    matching_rows = pd.merge(df1[['GMM Cluster', 'Song']], df2[['GMM Cluster', 'Song']], \n",
    "                             on=['GMM Cluster', 'Song'], how='inner')\n",
    "    matching_rows = pd.merge(matching_rows, df3[['GMM Cluster', 'Song']], \n",
    "                             on=['GMM Cluster', 'Song'], how='inner')\n",
    "    \n",
    "    # Display the matching rows\n",
    "    print(\"Rows where all three tables match on 'GMM Cluster' and 'Song':\")\n",
    "    print(matching_rows.shape[0])\n",
    "\n",
    "else:\n",
    "    print(\"All CSV files must have 'GMM Cluster' and 'Song' columns.\")\n"
   ]
  },
  {
   "cell_type": "code",
   "execution_count": null,
   "metadata": {},
   "outputs": [],
   "source": []
  }
 ],
 "metadata": {
  "kernelspec": {
   "display_name": "Python 3",
   "language": "python",
   "name": "python3"
  },
  "language_info": {
   "codemirror_mode": {
    "name": "ipython",
    "version": 3
   },
   "file_extension": ".py",
   "mimetype": "text/x-python",
   "name": "python",
   "nbconvert_exporter": "python",
   "pygments_lexer": "ipython3",
   "version": "3.11.7"
  }
 },
 "nbformat": 4,
 "nbformat_minor": 2
}
