{
 "cells": [
  {
   "cell_type": "code",
   "execution_count": 5,
   "metadata": {},
   "outputs": [
    {
     "name": "stdout",
     "output_type": "stream",
     "text": [
      "Data shape: (115, 21)\n"
     ]
    }
   ],
   "source": [
    "import os\n",
    "import pandas as pd\n",
    "\n",
    "# Path to the folder containing the 115 MFCC CSV files\n",
    "folder_path = './MFCC_Meaned'  # Update with your folder path\n",
    "\n",
    "# Initialize an empty list to store data from all songs\n",
    "mfcc_data_list = []\n",
    "file_names = []  # List to store the file names\n",
    "\n",
    "# Loop over all files in the folder\n",
    "for file_name in os.listdir(folder_path):\n",
    "    if file_name.endswith('.csv'):\n",
    "        # Read the MFCC file\n",
    "        file_path = os.path.join(folder_path, file_name)\n",
    "        mfcc_data = pd.read_csv(file_path, header=None)\n",
    "        \n",
    "        # Append the MFCC coefficients as a row in the list\n",
    "        mfcc_data_list.append(mfcc_data[0].values)\n",
    "        \n",
    "        # Store the file name (without .csv) to keep track of which song it is\n",
    "        file_names.append(file_name.replace('.csv', ''))\n",
    "\n",
    "# Convert list to DataFrame (115 rows, 20 columns)\n",
    "mfcc_df = pd.DataFrame(mfcc_data_list)\n",
    "\n",
    "# Add file names as an additional column for tracking\n",
    "mfcc_df['Song'] = file_names\n",
    "\n",
    "# Save to a new CSV file with song names\n",
    "mfcc_df.to_csv('MFCC_Meaned_20_with_Song_Names.csv', index=False)\n",
    "\n",
    "print(f\"Data shape: {mfcc_df.shape}\")\n"
   ]
  }
 ],
 "metadata": {
  "kernelspec": {
   "display_name": "Python 3",
   "language": "python",
   "name": "python3"
  },
  "language_info": {
   "codemirror_mode": {
    "name": "ipython",
    "version": 3
   },
   "file_extension": ".py",
   "mimetype": "text/x-python",
   "name": "python",
   "nbconvert_exporter": "python",
   "pygments_lexer": "ipython3",
   "version": "3.11.7"
  }
 },
 "nbformat": 4,
 "nbformat_minor": 2
}
