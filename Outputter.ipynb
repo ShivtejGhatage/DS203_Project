{
 "cells": [
  {
   "cell_type": "code",
   "execution_count": 1,
   "metadata": {},
   "outputs": [
    {
     "name": "stdout",
     "output_type": "stream",
     "text": [
      "               Song           Source_File GMM Cluster\n",
      "0    mfcc_output_49   Max_Probability.csv           5\n",
      "1    mfcc_output_61   Max_Probability.csv           2\n",
      "2    mfcc_output_75  Mean_Probability.csv           2\n",
      "3    mfcc_output_74   Max_Probability.csv           2\n",
      "4    mfcc_output_60  Mean_Probability.csv           1\n",
      "..              ...                   ...         ...\n",
      "110  mfcc_output_93  Mean_Probability.csv           5\n",
      "111  mfcc_output_87   Max_Probability.csv           2\n",
      "112  mfcc_output_78   Max_Probability.csv           2\n",
      "113  mfcc_output_50   Min_Probability.csv           1\n",
      "114  mfcc_output_44   Min_Probability.csv           3\n",
      "\n",
      "[115 rows x 3 columns]\n"
     ]
    }
   ],
   "source": [
    "import pandas as pd\n",
    "\n",
    "# Load the three probability files\n",
    "max_prob_df = pd.read_csv('Max_Probability.csv')\n",
    "min_prob_df = pd.read_csv('Min_Probability.csv')\n",
    "mean_prob_df = pd.read_csv('Mean_Probability.csv')\n",
    "\n",
    "# Assume 'Song' is the identifier and probability columns are named 'Cluster_0', 'Cluster_1', etc.\n",
    "song_names = max_prob_df['Song']\n",
    "prob_cols = [col for col in max_prob_df.columns if 'Cluster' in col]\n",
    "\n",
    "# Initialize DataFrame to store results\n",
    "result_df = pd.DataFrame({'Song': song_names, 'Source_File': '', 'GMM Cluster': ''})\n",
    "\n",
    "# Iterate over each row to find the file with the highest probability for each song\n",
    "for i in range(len(song_names)):\n",
    "    row_max = max_prob_df.iloc[i][prob_cols]\n",
    "    row_min = min_prob_df.iloc[i][prob_cols]\n",
    "    row_mean = mean_prob_df.iloc[i][prob_cols]\n",
    "\n",
    "    # Get the maximum probabilities for the row from each file\n",
    "    max_value = row_max.max()\n",
    "    min_value = row_min.max()\n",
    "    mean_value = row_mean.max()\n",
    "\n",
    "    # Determine which file has the highest probability and assign that file's cluster\n",
    "    if max_value >= min_value and max_value >= mean_value:\n",
    "        result_df.at[i, 'Source_File'] = 'Max_Probability.csv'\n",
    "        result_df.at[i, 'GMM Cluster'] = row_max.idxmax()[-1]\n",
    "    elif min_value >= max_value and min_value >= mean_value:\n",
    "        result_df.at[i, 'Source_File'] = 'Min_Probability.csv'\n",
    "        result_df.at[i, 'GMM Cluster'] = row_min.idxmax()[-1]\n",
    "    else:\n",
    "        result_df.at[i, 'Source_File'] = 'Mean_Probability.csv'\n",
    "        result_df.at[i, 'GMM Cluster'] =  row_mean.idxmax()[-1]\n",
    "\n",
    "# Save results to CSV\n",
    "result_df.to_csv('Almost_Final_Cluster_Assignments.csv')\n",
    "\n",
    "# Display result\n",
    "print(result_df)\n"
   ]
  },
  {
   "cell_type": "code",
   "execution_count": 21,
   "metadata": {},
   "outputs": [
    {
     "name": "stdout",
     "output_type": "stream",
     "text": [
      "             Song    Source_File  GMM Cluster\n",
      "0  mfcc_output_49  Majority_Vote            5\n",
      "1  mfcc_output_61  Majority_Vote            2\n",
      "2  mfcc_output_63  Majority_Vote            4\n",
      "3  mfcc_output_73  Majority_Vote            0\n",
      "4  mfcc_output_59  Majority_Vote            1\n",
      "Number of rows with at least two tables matching on 'GMM Cluster' and 'Song': 88\n"
     ]
    }
   ],
   "source": [
    "import pandas as pd\n",
    "\n",
    "# Load the three CSV files\n",
    "df1 = pd.read_csv('Output_GMM_max.csv')\n",
    "df2 = pd.read_csv('Output_GMM_Min.csv')\n",
    "df3 = pd.read_csv('Output_GMM_Mean.csv')\n",
    "\n",
    "# Ensure all DataFrames have the 'GMM Cluster' and 'Song' columns\n",
    "required_columns = {'GMM Cluster', 'Song'}\n",
    "if required_columns.issubset(df1.columns) and required_columns.issubset(df2.columns) and required_columns.issubset(df3.columns):\n",
    "\n",
    "    # Merge pairwise tables to find common rows\n",
    "    df1_df2 = pd.merge(df1[['Song', 'GMM Cluster']], df2[['Song', 'GMM Cluster']], \n",
    "                       on=['Song', 'GMM Cluster'], how='inner')\n",
    "    df2_df3 = pd.merge(df2[['Song', 'GMM Cluster']], df3[['Song', 'GMM Cluster']], \n",
    "                       on=['Song', 'GMM Cluster'], how='inner')\n",
    "    df1_df3 = pd.merge(df1[['Song', 'GMM Cluster']], df3[['Song', 'GMM Cluster']], \n",
    "                       on=['Song', 'GMM Cluster'], how='inner')\n",
    "    \n",
    "    # Combine all matching rows across pairwise matches\n",
    "    combined_matches = pd.concat([df1_df2, df2_df3, df1_df3]).drop_duplicates()\n",
    "    combined_matches.insert(1, 'Source_File', 'Majority_Vote')\n",
    "    print(combined_matches.head())\n",
    "    # Count the number of unique matching rows across at least two tables\n",
    "    matching_count = combined_matches.shape[0]\n",
    "    print(f\"Number of rows with at least two tables matching on 'GMM Cluster' and 'Song': {matching_count}\")\n",
    "    combined_matches.to_csv('Majority_Vote.csv')\n",
    "else:\n",
    "    print(\"All CSV files must have 'GMM Cluster' and 'Song' columns.\")\n"
   ]
  },
  {
   "cell_type": "code",
   "execution_count": 10,
   "metadata": {},
   "outputs": [
    {
     "name": "stdout",
     "output_type": "stream",
     "text": [
      "final.csv has been created.\n"
     ]
    }
   ],
   "source": [
    "import pandas as pd\n",
    "\n",
    "# Load the CSV files\n",
    "almost_final = pd.read_csv('Almost_Final_Cluster_Assignments.csv')\n",
    "majority_vote = pd.read_csv('Majority_Vote.csv')\n",
    "\n",
    "# Replace the GMM Cluster and Source_File where the Song matches\n",
    "for index, row in almost_final.iterrows():\n",
    "    # Find matching song in Majority Vote\n",
    "    match = majority_vote[majority_vote['Song'] == row['Song']]\n",
    "    if not match.empty:\n",
    "        almost_final.at[index, 'GMM Cluster'] = match.iloc[0]['GMM Cluster']  # Replace GMM Cluster\n",
    "        almost_final.at[index, 'Source_File'] = 'Majority_Vote'  # Change Source_File\n",
    "\n",
    "# Save the modified DataFrame to a new CSV\n",
    "almost_final.to_csv('Final.csv', index=False)\n",
    "\n",
    "print(\"final.csv has been created.\")\n"
   ]
  },
  {
   "cell_type": "code",
   "execution_count": 12,
   "metadata": {},
   "outputs": [
    {
     "name": "stdout",
     "output_type": "stream",
     "text": [
      "\n",
      "Counts of Source Files:\n",
      "Source_File\n",
      "Majority_Vote           88\n",
      "Max_Probability.csv     10\n",
      "Mean_Probability.csv     9\n",
      "Min_Probability.csv      8\n",
      "Name: count, dtype: int64\n",
      "\n",
      "Counts of GMM Clusters:\n",
      "GMM Cluster\n",
      "5    28\n",
      "2    25\n",
      "0    24\n",
      "4    22\n",
      "3    12\n",
      "1     4\n",
      "Name: count, dtype: int64\n"
     ]
    }
   ],
   "source": [
    "import pandas as pd\n",
    "\n",
    "# Load the final CSV file\n",
    "final_df = pd.read_csv('final.csv')\n",
    "\n",
    "# Count unique values in each column\n",
    "source_file_counts = final_df['Source_File'].value_counts()\n",
    "gmm_cluster_counts = final_df['GMM Cluster'].value_counts()\n",
    "\n",
    "# Display the counts\n",
    "print(\"\\nCounts of Source Files:\")\n",
    "print(source_file_counts)\n",
    "\n",
    "print(\"\\nCounts of GMM Clusters:\")\n",
    "print(gmm_cluster_counts)"
   ]
  }
 ],
 "metadata": {
  "kernelspec": {
   "display_name": "Python 3",
   "language": "python",
   "name": "python3"
  },
  "language_info": {
   "codemirror_mode": {
    "name": "ipython",
    "version": 3
   },
   "file_extension": ".py",
   "mimetype": "text/x-python",
   "name": "python",
   "nbconvert_exporter": "python",
   "pygments_lexer": "ipython3",
   "version": "3.11.7"
  }
 },
 "nbformat": 4,
 "nbformat_minor": 2
}
