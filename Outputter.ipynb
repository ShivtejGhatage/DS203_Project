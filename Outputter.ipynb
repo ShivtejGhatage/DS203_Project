{
 "cells": [
  {
   "cell_type": "code",
   "execution_count": 1,
   "metadata": {},
   "outputs": [
    {
     "name": "stdout",
     "output_type": "stream",
     "text": [
      "               Song           Source_File        GMM Cluster Name\n",
      "0    mfcc_output_49   Min_Probability.csv       Marathi Bhav Geet\n",
      "1    mfcc_output_61  Mean_Probability.csv  Indian National Anthem\n",
      "2    mfcc_output_75  Mean_Probability.csv  Indian National Anthem\n",
      "3    mfcc_output_74   Max_Probability.csv  Indian National Anthem\n",
      "4    mfcc_output_60  Mean_Probability.csv       Marathi Bhav Geet\n",
      "..              ...                   ...                     ...\n",
      "110  mfcc_output_93   Min_Probability.csv      Asha Bhosale Songs\n",
      "111  mfcc_output_87   Max_Probability.csv  Indian National Anthem\n",
      "112  mfcc_output_78   Max_Probability.csv  Indian National Anthem\n",
      "113  mfcc_output_50   Min_Probability.csv      Kishor Kumar Songs\n",
      "114  mfcc_output_44   Min_Probability.csv   Michael Jackson Songs\n",
      "\n",
      "[115 rows x 3 columns]\n"
     ]
    }
   ],
   "source": [
    "import pandas as pd\n",
    "\n",
    "# Load the three probability files\n",
    "max_prob_df = pd.read_csv('Max_Probability.csv')\n",
    "min_prob_df = pd.read_csv('Min_Probability.csv')\n",
    "mean_prob_df = pd.read_csv('Mean_Probability.csv')\n",
    "\n",
    "# Assume 'Song' is the identifier, and probability columns are named by cluster names\n",
    "song_names = max_prob_df['Song']\n",
    "prob_cols = [col for col in max_prob_df.columns if col != 'Song']  # Extract all cluster name columns\n",
    "\n",
    "# Initialize DataFrame to store results\n",
    "result_df = pd.DataFrame({'Song': song_names, 'Source_File': '', 'GMM Cluster Name': ''})\n",
    "\n",
    "# Iterate over each row to find the file with the highest probability for each song\n",
    "for i in range(len(song_names)):\n",
    "    row_max = max_prob_df.iloc[i][prob_cols]\n",
    "    row_min = min_prob_df.iloc[i][prob_cols]\n",
    "    row_mean = mean_prob_df.iloc[i][prob_cols]\n",
    "\n",
    "    # Get the maximum probabilities for the row from each file\n",
    "    max_value = row_max.max()\n",
    "    min_value = row_min.max()\n",
    "    mean_value = row_mean.max()\n",
    "\n",
    "    # Determine which file has the highest probability and assign that file's cluster name\n",
    "    if max_value >= min_value and max_value >= mean_value:\n",
    "        result_df.at[i, 'Source_File'] = 'Max_Probability.csv'\n",
    "        result_df.at[i, 'GMM Cluster Name'] = row_max.idxmax()  # Use the cluster name as is\n",
    "    elif min_value >= max_value and min_value >= mean_value:\n",
    "        result_df.at[i, 'Source_File'] = 'Min_Probability.csv'\n",
    "        result_df.at[i, 'GMM Cluster Name'] = row_min.idxmax()  # Use the cluster name as is\n",
    "    else:\n",
    "        result_df.at[i, 'Source_File'] = 'Mean_Probability.csv'\n",
    "        result_df.at[i, 'GMM Cluster Name'] = row_mean.idxmax()  # Use the cluster name as is\n",
    "\n",
    "# Save results to CSV\n",
    "result_df.to_csv('Almost_Final_Cluster_Assignments.csv', index=False)\n",
    "\n",
    "# Display result\n",
    "print(result_df)\n"
   ]
  },
  {
   "cell_type": "code",
   "execution_count": 2,
   "metadata": {},
   "outputs": [
    {
     "name": "stdout",
     "output_type": "stream",
     "text": [
      "             Song    Source_File        GMM Cluster Name\n",
      "0  mfcc_output_49  Majority_Vote       Marathi Bhav Geet\n",
      "1  mfcc_output_61  Majority_Vote  Indian National Anthem\n",
      "2  mfcc_output_60  Majority_Vote      Asha Bhosale Songs\n",
      "3  mfcc_output_48  Majority_Vote       Marathi Bhav Geet\n",
      "4  mfcc_output_76  Majority_Vote       Marathi Bhav Geet\n",
      "Number of rows with at least two tables matching on 'GMM Cluster Name' and 'Song': 92\n"
     ]
    }
   ],
   "source": [
    "import pandas as pd\n",
    "\n",
    "# Load the three CSV files\n",
    "df1 = pd.read_csv('Output_GMM_max.csv')\n",
    "df2 = pd.read_csv('Output_GMM_Min.csv')\n",
    "df3 = pd.read_csv('Output_GMM_Mean.csv')\n",
    "\n",
    "# Ensure all DataFrames have the 'GMM Cluster Name' and 'Song' columns\n",
    "required_columns = {'GMM Cluster Name', 'Song'}\n",
    "if required_columns.issubset(df1.columns) and required_columns.issubset(df2.columns) and required_columns.issubset(df3.columns):\n",
    "\n",
    "    # Merge pairwise tables to find common rows\n",
    "    df1_df2 = pd.merge(df1[['Song', 'GMM Cluster Name']], df2[['Song', 'GMM Cluster Name']], \n",
    "                       on=['Song', 'GMM Cluster Name'], how='inner')\n",
    "    df2_df3 = pd.merge(df2[['Song', 'GMM Cluster Name']], df3[['Song', 'GMM Cluster Name']], \n",
    "                       on=['Song', 'GMM Cluster Name'], how='inner')\n",
    "    df1_df3 = pd.merge(df1[['Song', 'GMM Cluster Name']], df3[['Song', 'GMM Cluster Name']], \n",
    "                       on=['Song', 'GMM Cluster Name'], how='inner')\n",
    "    \n",
    "    # Combine all matching rows across pairwise matches\n",
    "    combined_matches = pd.concat([df1_df2, df2_df3, df1_df3]).drop_duplicates()\n",
    "    combined_matches.insert(1, 'Source_File', 'Majority_Vote')\n",
    "    print(combined_matches.head())\n",
    "    \n",
    "    # Count the number of unique matching rows across at least two tables\n",
    "    matching_count = combined_matches.shape[0]\n",
    "    print(f\"Number of rows with at least two tables matching on 'GMM Cluster Name' and 'Song': {matching_count}\")\n",
    "    \n",
    "    # Save the result to a CSV file\n",
    "    combined_matches.to_csv('Majority_Vote.csv', index=False)\n",
    "else:\n",
    "    print(\"All CSV files must have 'GMM Cluster Name' and 'Song' columns.\")\n"
   ]
  },
  {
   "cell_type": "code",
   "execution_count": 3,
   "metadata": {},
   "outputs": [
    {
     "name": "stdout",
     "output_type": "stream",
     "text": [
      "Final.csv has been created.\n"
     ]
    }
   ],
   "source": [
    "import pandas as pd\n",
    "\n",
    "# Load the CSV files\n",
    "almost_final = pd.read_csv('Almost_Final_Cluster_Assignments.csv')\n",
    "majority_vote = pd.read_csv('Majority_Vote.csv')\n",
    "\n",
    "# Replace the GMM Cluster Name and Source_File where the Song matches\n",
    "for index, row in almost_final.iterrows():\n",
    "    # Find matching song in Majority Vote\n",
    "    match = majority_vote[majority_vote['Song'] == row['Song']]\n",
    "    if not match.empty:\n",
    "        # Replace GMM Cluster Name\n",
    "        almost_final.at[index, 'GMM Cluster Name'] = match.iloc[0]['GMM Cluster Name']  \n",
    "        # Change Source_File to 'Majority_Vote'\n",
    "        almost_final.at[index, 'Source_File'] = 'Majority_Vote'  \n",
    "\n",
    "# Save the modified DataFrame to a new CSV\n",
    "almost_final.to_csv('Final.csv', index=False)\n",
    "\n",
    "print(\"Final.csv has been created.\")\n"
   ]
  },
  {
   "cell_type": "code",
   "execution_count": 4,
   "metadata": {},
   "outputs": [
    {
     "name": "stdout",
     "output_type": "stream",
     "text": [
      "\n",
      "Counts of Source Files:\n",
      "Source_File\n",
      "Majority_Vote           92\n",
      "Min_Probability.csv     12\n",
      "Max_Probability.csv      8\n",
      "Mean_Probability.csv     3\n",
      "Name: count, dtype: int64\n",
      "\n",
      "Counts of GMM Cluster Names:\n",
      "GMM Cluster Name\n",
      "Marathi Bhav Geet         31\n",
      "Indian National Anthem    24\n",
      "Marathi Lavni             17\n",
      "Asha Bhosale Songs        15\n",
      "Kishor Kumar Songs        15\n",
      "Michael Jackson Songs     13\n",
      "Name: count, dtype: int64\n"
     ]
    }
   ],
   "source": [
    "import pandas as pd\n",
    "\n",
    "# Load the final CSV file\n",
    "final_df = pd.read_csv('Final.csv')\n",
    "\n",
    "# Count unique values in each column\n",
    "source_file_counts = final_df['Source_File'].value_counts()\n",
    "gmm_cluster_name_counts = final_df['GMM Cluster Name'].value_counts()\n",
    "\n",
    "# Display the counts\n",
    "print(\"\\nCounts of Source Files:\")\n",
    "print(source_file_counts)\n",
    "\n",
    "print(\"\\nCounts of GMM Cluster Names:\")\n",
    "print(gmm_cluster_name_counts)\n"
   ]
  }
 ],
 "metadata": {
  "kernelspec": {
   "display_name": "Python 3",
   "language": "python",
   "name": "python3"
  },
  "language_info": {
   "codemirror_mode": {
    "name": "ipython",
    "version": 3
   },
   "file_extension": ".py",
   "mimetype": "text/x-python",
   "name": "python",
   "nbconvert_exporter": "python",
   "pygments_lexer": "ipython3",
   "version": "3.11.7"
  }
 },
 "nbformat": 4,
 "nbformat_minor": 2
}
